{
 "cells": [
  {
   "cell_type": "code",
   "execution_count": 1,
   "id": "8bd1a0fa",
   "metadata": {},
   "outputs": [
    {
     "data": {
      "text/plain": [
       "3"
      ]
     },
     "execution_count": 1,
     "metadata": {},
     "output_type": "execute_result"
    }
   ],
   "source": [
    "#1\n",
    "#from statistics import median\n",
    "#median([1,2,3,4,5])"
   ]
  },
  {
   "cell_type": "code",
   "execution_count": 17,
   "id": "95492473",
   "metadata": {},
   "outputs": [
    {
     "name": "stdout",
     "output_type": "stream",
     "text": [
      "24.0\n"
     ]
    }
   ],
   "source": [
    "#3 \n",
    "arr = [45, 2, 89, 12, 13, 22, 26, 36, 48, 1, 9, 47]\n",
    "def insertionSort(arr):\n",
    "    for i in range(1, len(arr)):\n",
    "        key = arr[i]\n",
    "        # Move elements of arr[0..i-1], that are\n",
    "        # greater than key, to one position ahead\n",
    "        # of their current position\n",
    "        j = i-1\n",
    "        while j>=0 and key < arr[j]:\n",
    "            arr[j+1] = arr[j]\n",
    "            j -= 1\n",
    "        arr[j+1] = key\n",
    "\n",
    "def getSortedArray(arr):\n",
    "    sorted_arr = []\n",
    "    for i in range(len(arr)):\n",
    "        sorted_arr.append(arr[i])\n",
    "    return sorted_arr\n",
    "\n",
    "def findMedian(sortedArr):\n",
    "    \n",
    "    size = len(sortedArr)\n",
    "    middleIndex1 = sortedArr[size//2]\n",
    "    middleIndex2 = sortedArr[size//2-1]\n",
    "    \n",
    "    if(size % 2 == 0):\n",
    "        median = (middleIndex1 + middleIndex2)/2\n",
    "    else:\n",
    "        median = middleIndex1\n",
    "    return median\n",
    "\n",
    "insertionSort(arr)    \n",
    "sortedArray = getSortedArray(arr)\n",
    "print(findMedian(sortedArray))"
   ]
  },
  {
   "cell_type": "code",
   "execution_count": 3,
   "id": "16cea5d1",
   "metadata": {},
   "outputs": [
    {
     "name": "stdout",
     "output_type": "stream",
     "text": [
      "median is: 4\n"
     ]
    }
   ],
   "source": [
    "#2\n",
    "n_num = [4,5,1,2,3,7,9]\n",
    "n = len(n_num)\n",
    "n_num.sort()\n",
    "\n",
    "if n%2 == 0:\n",
    "    median1 = n_num[n//2]\n",
    "    median2 = n_num[n//2-1]\n",
    "    median = (median1 + median2)/2\n",
    "else:\n",
    "    median = n_num[n//2]\n",
    "print(\"median is: \" + str(median))"
   ]
  },
  {
   "cell_type": "code",
   "execution_count": null,
   "id": "23cf1a3d",
   "metadata": {},
   "outputs": [],
   "source": []
  }
 ],
 "metadata": {
  "kernelspec": {
   "display_name": "Python 3 (ipykernel)",
   "language": "python",
   "name": "python3"
  },
  "language_info": {
   "codemirror_mode": {
    "name": "ipython",
    "version": 3
   },
   "file_extension": ".py",
   "mimetype": "text/x-python",
   "name": "python",
   "nbconvert_exporter": "python",
   "pygments_lexer": "ipython3",
   "version": "3.8.13"
  }
 },
 "nbformat": 4,
 "nbformat_minor": 5
}
