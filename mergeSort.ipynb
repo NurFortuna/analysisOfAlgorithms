{
  "nbformat": 4,
  "nbformat_minor": 0,
  "metadata": {
    "colab": {
      "provenance": [],
      "collapsed_sections": [],
      "authorship_tag": "ABX9TyNn/1oqxiG5UcNBmUpyikXr",
      "include_colab_link": true
    },
    "kernelspec": {
      "name": "python3",
      "display_name": "Python 3"
    },
    "language_info": {
      "name": "python"
    }
  },
  "cells": [
    {
      "cell_type": "markdown",
      "metadata": {
        "id": "view-in-github",
        "colab_type": "text"
      },
      "source": [
        "<a href=\"https://colab.research.google.com/github/NurFortuna/analysisOfAlgorithms/blob/main/mergeSort.ipynb\" target=\"_parent\"><img src=\"https://colab.research.google.com/assets/colab-badge.svg\" alt=\"Open In Colab\"/></a>"
      ]
    },
    {
      "cell_type": "code",
      "execution_count": 1,
      "metadata": {
        "colab": {
          "base_uri": "https://localhost:8080/"
        },
        "id": "saU7Y0rH-3uI",
        "outputId": "5783d6e7-6f29-4639-e4fc-b1ffb9bb43ff"
      },
      "outputs": [
        {
          "output_type": "stream",
          "name": "stdout",
          "text": [
            "Mounted at /content/drive\n"
          ]
        }
      ],
      "source": [
        "from google.colab import drive\n",
        "drive.mount('/content/drive')"
      ]
    },
    {
      "cell_type": "markdown",
      "source": [
        "## **Merge Sort**"
      ],
      "metadata": {
        "id": "kJl6u39GAp9-"
      }
    },
    {
      "cell_type": "markdown",
      "source": [
        "Divide and conquer algoritms"
      ],
      "metadata": {
        "id": "yHo-KMuwAwjd"
      }
    },
    {
      "cell_type": "markdown",
      "source": [
        "\n",
        "\n",
        "1.   Split array in half\n",
        "2.   Call merge sort on each half to sort the recursively\n",
        "3.   Merge both sorted halves into one sorted array\n",
        "\n"
      ],
      "metadata": {
        "id": "3GXMD1BZB1V4"
      }
    },
    {
      "cell_type": "code",
      "source": [
        "def mergeSort(arr):\n",
        "  if len(arr) > 1:\n",
        "    left_arr = arr[:len(arr)//2]\n",
        "    right_arr = arr[len(arr)//2:]\n",
        "  \n",
        "    #recursion\n",
        "    mergeSort(left_arr)\n",
        "    mergeSort(right_arr)\n",
        "\n",
        "    #merge\n",
        "    i = 0 # left array index\n",
        "    j = 0 # right array index\n",
        "    k = 0 # merged array index\n",
        "    while i < len(left_arr) and j < len(right_arr):\n",
        "      if left_arr[i] < right_arr[j]:\n",
        "        arr[k] = left_arr[i]\n",
        "        i += 1\n",
        "      \n",
        "      else:\n",
        "        arr[k] = right_arr[j]\n",
        "        j += 1\n",
        "      k += 1\n",
        "\n",
        "    while i < len(left_arr):\n",
        "      arr[k] = left_arr[i]\n",
        "      i += 1\n",
        "      k += 1\n",
        "\n",
        "    while j < len(right_arr):\n",
        "      arr[k] = right_arr[j]\n",
        "      j += 1\n",
        "      k += 1\n"
      ],
      "metadata": {
        "id": "-7s-7h1wAvkr"
      },
      "execution_count": 6,
      "outputs": []
    },
    {
      "cell_type": "code",
      "source": [
        "test_arr = [2, 8, 4, 1, 3, 4, 8, 9, 7, 9 , 5]\n",
        "mergeSort(test_arr)\n",
        "print(test_arr)"
      ],
      "metadata": {
        "colab": {
          "base_uri": "https://localhost:8080/"
        },
        "id": "81NNQNo7Hvb7",
        "outputId": "1ca6e76e-3b66-402e-c383-6060e3e4be0f"
      },
      "execution_count": 9,
      "outputs": [
        {
          "output_type": "stream",
          "name": "stdout",
          "text": [
            "[1, 2, 3, 4, 4, 5, 7, 8, 8, 9, 9]\n"
          ]
        }
      ]
    }
  ]
}